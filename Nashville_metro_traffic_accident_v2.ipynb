{
 "cells": [
  {
   "cell_type": "markdown",
   "metadata": {},
   "source": [
    "# Data Question(s)\n",
    "Q1. How many total auto accidents per year in Nashville?\n",
    "\n",
    "Q2. Which region/city has the most accidents compared to other regions? \n",
    "\n",
    "Q3. What time of the year did the accident occur the most? \n",
    "\n",
    "Q4. Did the weather condition cause the accidents?\n",
    "\n",
    "Q5. What is the accident rate Per year? What is Average fatality per year? What is Average injury per year?\n",
    "\n",
    "Q6. Find Monthy, Weekly, Daily Average Accidents Per year.\n",
    "\n",
    "Q7. Which zip_code has the most accidents?\n"
   ]
  },
  {
   "cell_type": "code",
   "execution_count": 1,
   "metadata": {},
   "outputs": [],
   "source": [
    "import pandas as pd\n",
    "import numpy as np\n",
    "import matplotlib.pyplot as plt\n",
    "from datetime import datetime\n",
    "%matplotlib inline\n",
    "plt.style.use('ggplot')"
   ]
  },
  {
   "cell_type": "code",
   "execution_count": 2,
   "metadata": {},
   "outputs": [],
   "source": [
    "#read 2017, 2018, 2019 combined csv file and keep only 17 columns\n",
    "\n",
    "data = pd.read_csv(\".\\data\\combined_csv.csv\", \n",
    "                   index_col= None,\n",
    "                   usecols=['Accident Number', 'Date and Time', 'Number of Motor Vehicles', 'Number of Injuries',\n",
    "                           'Number of Fatalities', 'Property Damage', 'Hit and Run', 'Collision Type Description',\n",
    "                           'Weather Description','Street Address','City','State',\n",
    "                           'ZIP','Precinct','Latitude','Longitude','Mapped Location'],\n",
    "                  dtype={'Accident Number': str, 'ZIP': str, 'Number of Injuries': float},\n",
    "                  parse_dates =['Date and Time'],\n",
    "                  na_values =[' ']\n",
    "                  )"
   ]
  },
  {
   "cell_type": "code",
   "execution_count": 3,
   "metadata": {},
   "outputs": [],
   "source": [
    "#fill blank cells in Property Damange columns with 'N':No\n",
    "data['Property Damage'].fillna('N', inplace=True)"
   ]
  },
  {
   "cell_type": "code",
   "execution_count": 4,
   "metadata": {},
   "outputs": [],
   "source": [
    "#All missing zip code are filled with 99999\n",
    "data['ZIP'].fillna('99999', inplace=True)"
   ]
  },
  {
   "cell_type": "code",
   "execution_count": 5,
   "metadata": {},
   "outputs": [],
   "source": [
    "#All blanks cells are filled with unknown/N/zero values due to insufficient information\n",
    "\n",
    "data['Precinct'].fillna('UNKNOWN', inplace=True)\n",
    "data['Latitude'].fillna('UNKNOWN', inplace=True)\n",
    "data['Longitude'].fillna('UNKNOWN', inplace=True)\n",
    "data['Mapped Location'].fillna('UNKNOWN', inplace=True)\n",
    "data['Hit and Run'].fillna('N', inplace=True)\n",
    "data['Collision Type Description'].fillna('UNKNOWN', inplace=True)\n",
    "data['Street Address'].fillna('UNKNOWN', inplace=True)\n",
    "data['Weather Description'].fillna('UNKNOWN', inplace=True)\n",
    "data['Property Damage'].fillna('N', inplace=True)\n",
    "data['Number of Motor Vehicles'].fillna(0, inplace=True)\n",
    "data['Number of Fatalities'].fillna(0, inplace=True)"
   ]
  },
  {
   "cell_type": "code",
   "execution_count": 6,
   "metadata": {},
   "outputs": [],
   "source": [
    "# data.info()"
   ]
  },
  {
   "cell_type": "code",
   "execution_count": 7,
   "metadata": {},
   "outputs": [
    {
     "data": {
      "text/html": [
       "<div>\n",
       "<style scoped>\n",
       "    .dataframe tbody tr th:only-of-type {\n",
       "        vertical-align: middle;\n",
       "    }\n",
       "\n",
       "    .dataframe tbody tr th {\n",
       "        vertical-align: top;\n",
       "    }\n",
       "\n",
       "    .dataframe thead th {\n",
       "        text-align: right;\n",
       "    }\n",
       "</style>\n",
       "<table border=\"1\" class=\"dataframe\">\n",
       "  <thead>\n",
       "    <tr style=\"text-align: right;\">\n",
       "      <th></th>\n",
       "      <th>Accident Number</th>\n",
       "      <th>Date and Time</th>\n",
       "      <th>Number of Motor Vehicles</th>\n",
       "      <th>Number of Injuries</th>\n",
       "      <th>Number of Fatalities</th>\n",
       "      <th>Property Damage</th>\n",
       "      <th>Hit and Run</th>\n",
       "      <th>Collision Type Description</th>\n",
       "      <th>Weather Description</th>\n",
       "      <th>Street Address</th>\n",
       "      <th>City</th>\n",
       "      <th>State</th>\n",
       "      <th>ZIP</th>\n",
       "      <th>Precinct</th>\n",
       "      <th>Latitude</th>\n",
       "      <th>Longitude</th>\n",
       "      <th>Mapped Location</th>\n",
       "      <th>Date</th>\n",
       "      <th>Time</th>\n",
       "    </tr>\n",
       "  </thead>\n",
       "  <tbody>\n",
       "    <tr>\n",
       "      <th>0</th>\n",
       "      <td>20170016695</td>\n",
       "      <td>2017-01-06 07:35:00</td>\n",
       "      <td>2.0</td>\n",
       "      <td>0.0</td>\n",
       "      <td>0.0</td>\n",
       "      <td>N</td>\n",
       "      <td>N</td>\n",
       "      <td>ANGLE</td>\n",
       "      <td>SNOW</td>\n",
       "      <td>PETTUS RD &amp; PRESTON RD</td>\n",
       "      <td>ANTIOCH</td>\n",
       "      <td>TN</td>\n",
       "      <td>37013</td>\n",
       "      <td>SOUTH</td>\n",
       "      <td>36.0207</td>\n",
       "      <td>-86.665</td>\n",
       "      <td>POINT (-86.665 36.0207)</td>\n",
       "      <td>2017-Jan-06</td>\n",
       "      <td>07:35:00</td>\n",
       "    </tr>\n",
       "  </tbody>\n",
       "</table>\n",
       "</div>"
      ],
      "text/plain": [
       "  Accident Number       Date and Time  Number of Motor Vehicles  \\\n",
       "0     20170016695 2017-01-06 07:35:00                       2.0   \n",
       "\n",
       "   Number of Injuries  Number of Fatalities Property Damage Hit and Run  \\\n",
       "0                 0.0                   0.0               N           N   \n",
       "\n",
       "  Collision Type Description Weather Description          Street Address  \\\n",
       "0                      ANGLE                SNOW  PETTUS RD & PRESTON RD   \n",
       "\n",
       "      City State    ZIP Precinct Latitude Longitude          Mapped Location  \\\n",
       "0  ANTIOCH    TN  37013    SOUTH  36.0207   -86.665  POINT (-86.665 36.0207)   \n",
       "\n",
       "          Date      Time  \n",
       "0  2017-Jan-06  07:35:00  "
      ]
     },
     "execution_count": 7,
     "metadata": {},
     "output_type": "execute_result"
    }
   ],
   "source": [
    "#data = data['Date and Time'].str.\n",
    "data['Date'] = data['Date and Time'].dt.strftime('%Y-%b-%d')\n",
    "data['Time'] = data['Date and Time'].dt.strftime('%H:%M:%S')\n",
    "data.head(1)"
   ]
  },
  {
   "cell_type": "code",
   "execution_count": 8,
   "metadata": {},
   "outputs": [],
   "source": [
    "data[['Year', 'Month', 'Day']] = data['Date'].str.split('-', expand=True)"
   ]
  },
  {
   "cell_type": "code",
   "execution_count": 9,
   "metadata": {},
   "outputs": [],
   "source": [
    "# data.info()"
   ]
  },
  {
   "cell_type": "code",
   "execution_count": 10,
   "metadata": {},
   "outputs": [],
   "source": [
    "# Sepearate the dataset to individual year\n",
    "data_2017 =data.loc[data['Year']== '2017']\n",
    "data_2018 =data.loc[data['Year']== '2018']\n",
    "data_2019 =data.loc[data['Year']== '2019']\n",
    "data_2015 =data.loc[data['Year']== '2015']\n",
    "data_2016 =data.loc[data['Year']== '2016']"
   ]
  },
  {
   "cell_type": "markdown",
   "metadata": {},
   "source": [
    "---\n",
    "\n",
    "\n",
    "# Write functions for the same analysis"
   ]
  },
  {
   "cell_type": "code",
   "execution_count": 11,
   "metadata": {},
   "outputs": [],
   "source": [
    "def total_accident(df, year):\n",
    "    \"\"\"find total accident per year\n",
    "    \"\"\"\n",
    "    total_traffic_accident =df['Accident Number'].count()\n",
    "    print(f' Total Traffic accident in {year}: {total_traffic_accident}')"
   ]
  },
  {
   "cell_type": "code",
   "execution_count": 12,
   "metadata": {},
   "outputs": [],
   "source": [
    "\n",
    "def total_vehicles(df, year):\n",
    "    \"\"\"find total accident per year\n",
    "    \"\"\"\n",
    "    total_vehicles =df['Number of Motor Vehicles'].sum()\n",
    "    print(f' Total Vehicles crash in {year}: {total_vehicles}')"
   ]
  },
  {
   "cell_type": "code",
   "execution_count": 13,
   "metadata": {},
   "outputs": [],
   "source": [
    "def accident_by_city(data_year, year):\n",
    "    \"\"\"\n",
    "    define function to find number of accidents by city\n",
    "    \"\"\"\n",
    "    cities_year = data_year['City'].tolist()\n",
    "    cities_year_count = dict((x, cities_year.count(x)) for x in set(cities_year))\n",
    "    city_accident =pd.DataFrame.from_dict(cities_year_count, orient='index',columns =[f'Number_of_Accidents {year}'])\n",
    "    city_accident_sorted=city_accident.sort_values(by=[f'Number_of_Accidents {year}'], ascending = False)\n",
    "    return city_accident_sorted"
   ]
  },
  {
   "cell_type": "code",
   "execution_count": 14,
   "metadata": {},
   "outputs": [],
   "source": [
    "def average_by(data_year, groupsBy, aggregateBy1, aggregateBy2, new_columname1, new_columname2, new_columname3, year):\n",
    "    \"\"\"Returns Three columns: Groupby column, Total column, Average Column         \n",
    "    \"\"\"\n",
    "    data = data_year.groupby(groupsBy).agg({aggregateBy1: ['sum'],aggregateBy2: ['count'] })\n",
    "    data = data.reset_index()\n",
    "    data.columns = [new_columname1,new_columname2, new_columname3]\n",
    "    data_sorted = data.sort_values(by=new_columname2, ascending = False)\n",
    "    #total = data_sorted[new_columname2].sum()\n",
    "    \n",
    "    for ind, row in data_sorted.iterrows():\n",
    "        data_sorted.loc[ind, 'Average'] = row[new_columname2] / row[new_columname3] #total *100\n",
    "     \n",
    "    return data_sorted\n"
   ]
  },
  {
   "cell_type": "code",
   "execution_count": 15,
   "metadata": {},
   "outputs": [],
   "source": [
    "def accident_by_weather(data_year, year, number_of_year):\n",
    "    \"\"\"\n",
    "    define function to find number of accidents by Weather Condition\n",
    "    \"\"\"\n",
    "    condition_year = data_year['Weather Description'].tolist()\n",
    "    condition_year_count = dict((x, condition_year.count(x)/number_of_year) for x in set(condition_year))\n",
    "    condition_accident =pd.DataFrame.from_dict(condition_year_count, orient='index',columns =[f'Average Number of Accidents {year}'])\n",
    "    condition_accident_sorted=condition_accident.sort_values(by=[f'Average Number of Accidents {year}'], ascending = False)\n",
    "    return condition_accident_sorted"
   ]
  },
  {
   "cell_type": "code",
   "execution_count": 36,
   "metadata": {},
   "outputs": [],
   "source": [
    "# function to plot desired series\n",
    "def plot_series(df, x_series , y_series, plot_title, x_label, y_label, colors):\n",
    "    \"\"\"plotting desired series\n",
    "    \"\"\"\n",
    "\n",
    "    plt.rcParams[\"figure.figsize\"] = (6,4)\n",
    "    ax = df.plot.bar(x= x_series,y= y_series, rot=90, color =colors)\n",
    "    plt.xlabel(x_label)\n",
    "    plt.ylabel(y_label)\n",
    "    plt.title(plot_title)\n"
   ]
  },
  {
   "cell_type": "code",
   "execution_count": 78,
   "metadata": {},
   "outputs": [],
   "source": [
    "def injury_rate(data_year, year, VMT):\n",
    "    \"\"\"Find Average injury per accident\n",
    "    \"\"\"\n",
    "    injury_year = data_year['Number of Injuries']\n",
    "    total_injury = sum(injury_year)\n",
    "    injury_person_per_100K_VMT = round(total_injury / VMT * 100000,2)\n",
    "    print(f'Injuried Persons Per 100000 VMT in {year} : {injury_person_per_100K_VMT}')\n",
    "    #return injury_rate_per_accident "
   ]
  },
  {
   "cell_type": "code",
   "execution_count": 79,
   "metadata": {},
   "outputs": [],
   "source": [
    "def fatality_rate(data_year, year, population):\n",
    "    \"\"\"Find Average fatality per accident\n",
    "    \"\"\"\n",
    "    fatality_year = data_year['Number of Fatalities']\n",
    "    total_fatality = int(sum(fatality_year))\n",
    "    fatality_per_100K_population = round(total_fatality / population * 100000,2)\n",
    "    print(f'Fatality Per 100000 Population in {year}: {fatality_per_100K_population}')\n",
    "    #return fatality_rate_per_accident"
   ]
  },
  {
   "cell_type": "code",
   "execution_count": 40,
   "metadata": {},
   "outputs": [],
   "source": [
    "\n",
    "def plot_accident_by_zip(df, plot_title, x_label, y_label, colors):\n",
    "    \"\"\"plot traffic accident by zip\n",
    "    \"\"\"\n",
    "    # filter out city column and pass to list to iterate over the city columns\n",
    "    zip_year = df['ZIP'].tolist()\n",
    "    zip_count_year = dict((x, zip_year.count(x)) for x in set(zip_year))\n",
    "\n",
    "    #create dataframe from result dictionary\n",
    "    zip_count_year =pd.DataFrame.from_dict(zip_count_year, orient='index',columns =['Accidents_by_zip']) \n",
    "    zip_count_year= zip_count_year.sort_values(by='Accidents_by_zip', ascending = False)\n",
    "    #zip_count_2017\n",
    "    plt.rcParams[\"figure.figsize\"] = (8,6)\n",
    "    ax = zip_count_year.plot.bar(y='Accidents_by_zip', rot=90, color = colors)\n",
    "    plt.xlabel(x_label);\n",
    "    plt.ylabel(y_label);\n",
    "    plt.title(plot_title);"
   ]
  },
  {
   "cell_type": "code",
   "execution_count": 48,
   "metadata": {},
   "outputs": [],
   "source": [
    "def groupby_month_plot(data_year,plot_title, x_label,y_label, colors, number_of_number):\n",
    "    \"\"\"Group Accident by Month\n",
    "       & plot line graph\n",
    "    \"\"\"\n",
    "    by_month = (data_year.groupby('Month').agg({'Accident Number':['count']}))/number_of_number\n",
    "    ordered = ['Jan', 'Feb', 'Mar', 'Apr', 'May','Jun', 'Jul','Aug', 'Sep','Oct','Nov','Dec']\n",
    "    by_month_ordered = by_month.reindex(ordered)\n",
    "    by_month_ordered.plot(y='Accident Number', color=colors)\n",
    "    plt.xlabel(x_label);\n",
    "    plt.ylabel(y_label);\n",
    "    plt.title(plot_title);"
   ]
  },
  {
   "cell_type": "code",
   "execution_count": 42,
   "metadata": {},
   "outputs": [],
   "source": [
    "def monthly_weekly_daily_average_accident(df, year):\n",
    "    \"\"\"Find average Monthly, weekly, and Daily traffic accident\n",
    "    \"\"\"\n",
    "    number_of_accident= df[\"Accident Number\"].count()\n",
    "    monthly_average_accident = round(number_of_accident / 12)\n",
    "    weekly_average_accident= round(number_of_accident / 52)\n",
    "    daily_average_accident = round(number_of_accident / 365)\n",
    "    print(f'Monthly Average Accidents {year}: {monthly_average_accident}')\n",
    "    print(f'Weekly Average Accidents {year}: {weekly_average_accident}')\n",
    "    print(f'Daily Average Accidents {year}: {daily_average_accident}')"
   ]
  },
  {
   "cell_type": "markdown",
   "metadata": {},
   "source": [
    "---\n",
    "\n",
    "## Q1. How many total auto accidents per year in Nashville?\n"
   ]
  },
  {
   "cell_type": "code",
   "execution_count": null,
   "metadata": {},
   "outputs": [],
   "source": [
    "total_accident(data_2015, 2015)\n",
    "total_accident(data_2016, 2016)\n",
    "total_accident(data_2017, 2017)\n",
    "total_accident(data_2018, 2018)\n",
    "total_accident(data_2019, 2019)"
   ]
  },
  {
   "cell_type": "code",
   "execution_count": null,
   "metadata": {},
   "outputs": [],
   "source": [
    "total_vehicles(data_2015, 2015)\n",
    "total_vehicles(data_2016, 2016)\n",
    "total_vehicles(data_2017, 2017)\n",
    "total_vehicles(data_2018, 2018)\n",
    "total_vehicles(data_2019, 2019)"
   ]
  },
  {
   "cell_type": "code",
   "execution_count": null,
   "metadata": {},
   "outputs": [],
   "source": [
    "average_by(data, \"Year\", \"Number of Injuries\", \"Number of Motor Vehicles\", \"Year\", \"Fatality\", \"Vehicles\", \"5 Years\")"
   ]
  },
  {
   "cell_type": "markdown",
   "metadata": {},
   "source": [
    "---\n",
    "\n",
    "## Q2. Which region/city has the most accidents compared to other regions? "
   ]
  },
  {
   "cell_type": "code",
   "execution_count": 33,
   "metadata": {},
   "outputs": [
    {
     "data": {
      "text/html": [
       "<div>\n",
       "<style scoped>\n",
       "    .dataframe tbody tr th:only-of-type {\n",
       "        vertical-align: middle;\n",
       "    }\n",
       "\n",
       "    .dataframe tbody tr th {\n",
       "        vertical-align: top;\n",
       "    }\n",
       "\n",
       "    .dataframe thead th {\n",
       "        text-align: right;\n",
       "    }\n",
       "</style>\n",
       "<table border=\"1\" class=\"dataframe\">\n",
       "  <thead>\n",
       "    <tr style=\"text-align: right;\">\n",
       "      <th></th>\n",
       "      <th>Number_of_Accidents 1519</th>\n",
       "    </tr>\n",
       "  </thead>\n",
       "  <tbody>\n",
       "    <tr>\n",
       "      <th>NASHVILLE</th>\n",
       "      <td>26156.6</td>\n",
       "    </tr>\n",
       "  </tbody>\n",
       "</table>\n",
       "</div>"
      ],
      "text/plain": [
       "           Number_of_Accidents 1519\n",
       "NASHVILLE                   26156.6"
      ]
     },
     "execution_count": 33,
     "metadata": {},
     "output_type": "execute_result"
    }
   ],
   "source": [
    "total_by_city =accident_by_city(data, 15_19)\n",
    "Average_accident_by_city =(total_by_city[['Number_of_Accidents 1519']]/5).head(1)\n",
    "Average_accident_by_city"
   ]
  },
  {
   "cell_type": "code",
   "execution_count": 22,
   "metadata": {},
   "outputs": [
    {
     "data": {
      "text/html": [
       "<div>\n",
       "<style scoped>\n",
       "    .dataframe tbody tr th:only-of-type {\n",
       "        vertical-align: middle;\n",
       "    }\n",
       "\n",
       "    .dataframe tbody tr th {\n",
       "        vertical-align: top;\n",
       "    }\n",
       "\n",
       "    .dataframe thead th {\n",
       "        text-align: right;\n",
       "    }\n",
       "</style>\n",
       "<table border=\"1\" class=\"dataframe\">\n",
       "  <thead>\n",
       "    <tr style=\"text-align: right;\">\n",
       "      <th></th>\n",
       "      <th>Number_of_Accidents 2015</th>\n",
       "    </tr>\n",
       "  </thead>\n",
       "  <tbody>\n",
       "    <tr>\n",
       "      <th>NASHVILLE</th>\n",
       "      <td>24970</td>\n",
       "    </tr>\n",
       "  </tbody>\n",
       "</table>\n",
       "</div>"
      ],
      "text/plain": [
       "           Number_of_Accidents 2015\n",
       "NASHVILLE                     24970"
      ]
     },
     "execution_count": 22,
     "metadata": {},
     "output_type": "execute_result"
    }
   ],
   "source": [
    "total_by_city_2015 =accident_by_city(data_2015, 2015)\n",
    "total_by_city_2015.head(1)"
   ]
  },
  {
   "cell_type": "code",
   "execution_count": 23,
   "metadata": {},
   "outputs": [
    {
     "data": {
      "text/html": [
       "<div>\n",
       "<style scoped>\n",
       "    .dataframe tbody tr th:only-of-type {\n",
       "        vertical-align: middle;\n",
       "    }\n",
       "\n",
       "    .dataframe tbody tr th {\n",
       "        vertical-align: top;\n",
       "    }\n",
       "\n",
       "    .dataframe thead th {\n",
       "        text-align: right;\n",
       "    }\n",
       "</style>\n",
       "<table border=\"1\" class=\"dataframe\">\n",
       "  <thead>\n",
       "    <tr style=\"text-align: right;\">\n",
       "      <th></th>\n",
       "      <th>Number_of_Accidents 2016</th>\n",
       "    </tr>\n",
       "  </thead>\n",
       "  <tbody>\n",
       "    <tr>\n",
       "      <th>NASHVILLE</th>\n",
       "      <td>26204</td>\n",
       "    </tr>\n",
       "  </tbody>\n",
       "</table>\n",
       "</div>"
      ],
      "text/plain": [
       "           Number_of_Accidents 2016\n",
       "NASHVILLE                     26204"
      ]
     },
     "execution_count": 23,
     "metadata": {},
     "output_type": "execute_result"
    }
   ],
   "source": [
    "total_by_city_2016 =accident_by_city(data_2016, 2016)\n",
    "total_by_city_2016.head(1)"
   ]
  },
  {
   "cell_type": "code",
   "execution_count": 24,
   "metadata": {},
   "outputs": [
    {
     "data": {
      "text/html": [
       "<div>\n",
       "<style scoped>\n",
       "    .dataframe tbody tr th:only-of-type {\n",
       "        vertical-align: middle;\n",
       "    }\n",
       "\n",
       "    .dataframe tbody tr th {\n",
       "        vertical-align: top;\n",
       "    }\n",
       "\n",
       "    .dataframe thead th {\n",
       "        text-align: right;\n",
       "    }\n",
       "</style>\n",
       "<table border=\"1\" class=\"dataframe\">\n",
       "  <thead>\n",
       "    <tr style=\"text-align: right;\">\n",
       "      <th></th>\n",
       "      <th>Number_of_Accidents 2017</th>\n",
       "    </tr>\n",
       "  </thead>\n",
       "  <tbody>\n",
       "    <tr>\n",
       "      <th>NASHVILLE</th>\n",
       "      <td>26574</td>\n",
       "    </tr>\n",
       "  </tbody>\n",
       "</table>\n",
       "</div>"
      ],
      "text/plain": [
       "           Number_of_Accidents 2017\n",
       "NASHVILLE                     26574"
      ]
     },
     "execution_count": 24,
     "metadata": {},
     "output_type": "execute_result"
    }
   ],
   "source": [
    "total_by_city_2017 =accident_by_city(data_2017, 2017)\n",
    "total_by_city_2017.head(1)"
   ]
  },
  {
   "cell_type": "code",
   "execution_count": 25,
   "metadata": {},
   "outputs": [
    {
     "data": {
      "text/html": [
       "<div>\n",
       "<style scoped>\n",
       "    .dataframe tbody tr th:only-of-type {\n",
       "        vertical-align: middle;\n",
       "    }\n",
       "\n",
       "    .dataframe tbody tr th {\n",
       "        vertical-align: top;\n",
       "    }\n",
       "\n",
       "    .dataframe thead th {\n",
       "        text-align: right;\n",
       "    }\n",
       "</style>\n",
       "<table border=\"1\" class=\"dataframe\">\n",
       "  <thead>\n",
       "    <tr style=\"text-align: right;\">\n",
       "      <th></th>\n",
       "      <th>Number_of_Accidents 2018</th>\n",
       "    </tr>\n",
       "  </thead>\n",
       "  <tbody>\n",
       "    <tr>\n",
       "      <th>NASHVILLE</th>\n",
       "      <td>26549</td>\n",
       "    </tr>\n",
       "  </tbody>\n",
       "</table>\n",
       "</div>"
      ],
      "text/plain": [
       "           Number_of_Accidents 2018\n",
       "NASHVILLE                     26549"
      ]
     },
     "execution_count": 25,
     "metadata": {},
     "output_type": "execute_result"
    }
   ],
   "source": [
    "total_by_city_2018 =accident_by_city(data_2018, 2018)\n",
    "total_by_city_2018.head(1)"
   ]
  },
  {
   "cell_type": "code",
   "execution_count": 26,
   "metadata": {},
   "outputs": [
    {
     "data": {
      "text/html": [
       "<div>\n",
       "<style scoped>\n",
       "    .dataframe tbody tr th:only-of-type {\n",
       "        vertical-align: middle;\n",
       "    }\n",
       "\n",
       "    .dataframe tbody tr th {\n",
       "        vertical-align: top;\n",
       "    }\n",
       "\n",
       "    .dataframe thead th {\n",
       "        text-align: right;\n",
       "    }\n",
       "</style>\n",
       "<table border=\"1\" class=\"dataframe\">\n",
       "  <thead>\n",
       "    <tr style=\"text-align: right;\">\n",
       "      <th></th>\n",
       "      <th>Number_of_Accidents 2019</th>\n",
       "    </tr>\n",
       "  </thead>\n",
       "  <tbody>\n",
       "    <tr>\n",
       "      <th>NASHVILLE</th>\n",
       "      <td>26486</td>\n",
       "    </tr>\n",
       "  </tbody>\n",
       "</table>\n",
       "</div>"
      ],
      "text/plain": [
       "           Number_of_Accidents 2019\n",
       "NASHVILLE                     26486"
      ]
     },
     "execution_count": 26,
     "metadata": {},
     "output_type": "execute_result"
    }
   ],
   "source": [
    "total_by_city_2019 = accident_by_city(data_2019, 2019)\n",
    "total_by_city_2019.head(1)"
   ]
  },
  {
   "cell_type": "markdown",
   "metadata": {},
   "source": [
    "---\n",
    "\n",
    "## Q3. What time of the year did the accident occur the most? \n"
   ]
  },
  {
   "cell_type": "code",
   "execution_count": 50,
   "metadata": {},
   "outputs": [
    {
     "data": {
      "image/png": "[encoded data removed]",
      "text/plain": [
       "<Figure size 432x288 with 1 Axes>"
      ]
     },
     "metadata": {},
     "output_type": "display_data"
    }
   ],
   "source": [
    "groupby_month_plot(data,\"Average Monthly Accidents\", \"Month\",\"Count\", \"steelblue\", 5)"
   ]
  },
  {
   "cell_type": "code",
   "execution_count": null,
   "metadata": {},
   "outputs": [],
   "source": [
    "groupby_month_plot(data_2018,\"Monthly Total Accidents 2018\", \"Month\",\"Count\", \"steelblue\", 1)"
   ]
  },
  {
   "cell_type": "code",
   "execution_count": null,
   "metadata": {},
   "outputs": [],
   "source": [
    "groupby_month_plot(data_2019,\"Monthly Total Accidents 2019\", \"Month\",\"Count\", \"lightslategray\",1)"
   ]
  },
  {
   "cell_type": "code",
   "execution_count": null,
   "metadata": {},
   "outputs": [],
   "source": [
    "#Plot bar plot to compare between line plot to see which one is better for the same data\n",
    "plt.rcParams[\"figure.figsize\"] = (8,6)\n",
    "ax = by_month_2017_ordered.plot.bar(y='Accident Number', rot=0, color ='dodgerblue')\n",
    "plt.xlabel(\"Month\")\n",
    "plt.ylabel(\"Number of Accident\")\n",
    "plt.title(\"Monthly Traffic Accident 2017\")"
   ]
  },
  {
   "cell_type": "markdown",
   "metadata": {},
   "source": [
    "---\n",
    "## Q4. Did the weather condition cause the accidents?"
   ]
  },
  {
   "cell_type": "code",
   "execution_count": 54,
   "metadata": {},
   "outputs": [
    {
     "data": {
      "image/png": "[encoded data removed]",
      "text/plain": [
       "<Figure size 432x288 with 1 Axes>"
      ]
     },
     "metadata": {},
     "output_type": "display_data"
    }
   ],
   "source": [
    "Average_Accidents_by_Weather =accident_by_weather(data, 2015_2019, 5)\n",
    "Average_Accidents_by_Weather\n",
    "plt.rcParams[\"figure.figsize\"] = (6,4)\n",
    "ax = Average_Accidents_by_Weather.plot.bar(y='Average Number of Accidents 20152019', rot=90, color = \"dodgerblue\")\n",
    "plt.xlabel(\"Weather\");\n",
    "plt.ylabel(\"Average\");\n",
    "plt.title(\"Average Accident by Weather Condition\");"
   ]
  },
  {
   "cell_type": "markdown",
   "metadata": {},
   "source": [
    "## Q5. What is injury rate? What is fatality rate?\n"
   ]
  },
  {
   "cell_type": "code",
   "execution_count": 80,
   "metadata": {},
   "outputs": [
    {
     "name": "stdout",
     "output_type": "stream",
     "text": [
      "Injuried Persons Per 100000 VMT in 2015 : 49.58\n",
      "Injuried Persons Per 100000 VMT in 2016 : 52.53\n",
      "Injuried Persons Per 100000 VMT in 2017 : 50.74\n",
      "Injuried Persons Per 100000 VMT in 2018 : 48.76\n",
      "Injuried Persons Per 100000 VMT in 2019 : 52.29\n"
     ]
    }
   ],
   "source": [
    "injury_rate(data_2015, 2015, 23704507)\n",
    "injury_rate(data_2016, 2016, 24582377)\n",
    "injury_rate(data_2017, 2017, 25658830)\n",
    "injury_rate(data_2018, 2018, 26038272)\n",
    "injury_rate(data_2019, 2019, 26038272)"
   ]
  },
  {
   "cell_type": "code",
   "execution_count": 81,
   "metadata": {},
   "outputs": [
    {
     "name": "stdout",
     "output_type": "stream",
     "text": [
      "Fatality Per 100000 Population in 2015: 14.42\n",
      "Fatality Per 100000 Population in 2016: 15.31\n",
      "Fatality Per 100000 Population in 2017: 14.7\n",
      "Fatality Per 100000 Population in 2018: 14.77\n",
      "Fatality Per 100000 Population in 2019: 17.43\n"
     ]
    }
   ],
   "source": [
    "fatality_rate(data_2015, 2015, 679793)\n",
    "fatality_rate(data_2016, 2016, 685829)\n",
    "fatality_rate(data_2017, 2017, 687159)\n",
    "fatality_rate(data_2018, 2018, 690516)\n",
    "fatality_rate(data_2019, 2019, 694144)"
   ]
  },
  {
   "cell_type": "markdown",
   "metadata": {},
   "source": [
    "## Q6. Monthy, Weekly, Daily Average Accidents for each year\n"
   ]
  },
  {
   "cell_type": "code",
   "execution_count": 83,
   "metadata": {},
   "outputs": [
    {
     "name": "stdout",
     "output_type": "stream",
     "text": [
      "Monthly Average Accidents 2015: 2696.0\n",
      "Weekly Average Accidents 2015: 622.0\n",
      "Daily Average Accidents 2015: 89.0\n",
      "Monthly Average Accidents 2016: 2875.0\n",
      "Weekly Average Accidents 2016: 663.0\n",
      "Daily Average Accidents 2016: 95.0\n",
      "Monthly Average Accidents 2017: 2894.0\n",
      "Weekly Average Accidents 2017: 668.0\n",
      "Daily Average Accidents 2017: 95.0\n",
      "Monthly Average Accidents 2018: 2882.0\n",
      "Weekly Average Accidents 2018: 665.0\n",
      "Daily Average Accidents 2018: 95.0\n",
      "Monthly Average Accidents 2019: 2891.0\n",
      "Weekly Average Accidents 2019: 667.0\n",
      "Daily Average Accidents 2019: 95.0\n"
     ]
    }
   ],
   "source": [
    "monthly_weekly_daily_average_accident(data_2015, 2015)\n",
    "monthly_weekly_daily_average_accident(data_2016, 2016)\n",
    "monthly_weekly_daily_average_accident(data_2017, 2017)\n",
    "monthly_weekly_daily_average_accident(data_2018, 2018)\n",
    "monthly_weekly_daily_average_accident(data_2019, 2019)"
   ]
  },
  {
   "cell_type": "markdown",
   "metadata": {},
   "source": [
    "---\n",
    "\n",
    "## Q7. Which zip_code has the most accidents?"
   ]
  },
  {
   "cell_type": "code",
   "execution_count": 84,
   "metadata": {},
   "outputs": [
    {
     "data": {
      "image/png": "[encoded data removed]",
      "text/plain": [
       "<Figure size 576x432 with 1 Axes>"
      ]
     },
     "metadata": {},
     "output_type": "display_data"
    }
   ],
   "source": [
    "plot_accident_by_zip(data, \"Accidents by Zip\", \"Zip\", \"Count\", \"lightslategray\")"
   ]
  },
  {
   "cell_type": "markdown",
   "metadata": {},
   "source": [
    "---\n",
    "## Merge same dataframes for PowerPoint Presentation"
   ]
  },
  {
   "cell_type": "code",
   "execution_count": null,
   "metadata": {},
   "outputs": [],
   "source": [
    "# # Merge Dataframe groupby city\n",
    "# df = accident_by_city_2017.merge(accident_by_city_2018, left_index=True, right_index=True) \n",
    "# df_city_combined = df.merge(accident_by_city_2019, left_index=True, right_index=True)\n",
    "# df_city_combined= df_city_combined.merge(accident_by_city_2015,left_index=True, right_index=True ).merge(accident_by_city_2015,left_index=True, right_index=True)\n",
    "# #df_city_combined.to_csv('By_city_Accidents_combined.csv')"
   ]
  }
 ],
 "metadata": {
  "kernelspec": {
   "display_name": "Python 3",
   "language": "python",
   "name": "python3"
  },
  "language_info": {
   "codemirror_mode": {
    "name": "ipython",
    "version": 3
   },
   "file_extension": ".py",
   "mimetype": "text/x-python",
   "name": "python",
   "nbconvert_exporter": "python",
   "pygments_lexer": "ipython3",
   "version": "3.7.6"
  }
 },
 "nbformat": 4,
 "nbformat_minor": 4
}
