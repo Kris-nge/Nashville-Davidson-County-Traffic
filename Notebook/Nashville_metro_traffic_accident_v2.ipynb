{
 "cells": [
  {
   "cell_type": "markdown",
   "metadata": {},
   "source": [
    "# Data Question(s)\n",
    "Q1. How many total auto accidents per year in Nashville?\n",
    "\n",
    "Q2. Which region/city has the most accidents compared to other regions? \n",
    "\n",
    "Q3. What time of the year did the accident occur the most? \n",
    "\n",
    "Q4. Did the weather condition cause the accidents?\n",
    "\n",
    "Q5. What is Injury and fatality rate?\n",
    "\n",
    "Q6. Which zip_code has the most accidents?"
   ]
  },
  {
   "cell_type": "code",
   "execution_count": null,
   "metadata": {},
   "outputs": [],
   "source": [
    "import pandas as pd\n",
    "import numpy as np\n",
    "import matplotlib.pyplot as plt\n",
    "from datetime import datetime\n",
    "%matplotlib inline\n",
    "plt.style.use('ggplot')"
   ]
  },
  {
   "cell_type": "code",
   "execution_count": null,
   "metadata": {},
   "outputs": [],
   "source": [
    "#read 2017, 2018, 2019 combined csv file and keep only 17 columns\n",
    "\n",
    "data = pd.read_csv(\".\\data\\combined_csv.csv\", \n",
    "                   index_col= None,\n",
    "                   usecols=['Accident Number', 'Date and Time', 'Number of Motor Vehicles', 'Number of Injuries',\n",
    "                           'Number of Fatalities', 'Property Damage', 'Hit and Run', 'Collision Type Description',\n",
    "                           'Weather Description','Street Address','City','State',\n",
    "                           'ZIP','Precinct','Latitude','Longitude','Mapped Location'],\n",
    "                  dtype={'Accident Number': str, 'ZIP': str, 'Number of Injuries': float},\n",
    "                  parse_dates =['Date and Time'],\n",
    "                  na_values =[' ']\n",
    "                  )"
   ]
  },
  {
   "cell_type": "code",
   "execution_count": null,
   "metadata": {},
   "outputs": [],
   "source": [
    "#fill blank cells in Property Damange columns with 'N':No\n",
    "data['Property Damage'].fillna('N', inplace=True)"
   ]
  },
  {
   "cell_type": "code",
   "execution_count": null,
   "metadata": {},
   "outputs": [],
   "source": [
    "#All missing zip code are filled with 99999\n",
    "data['ZIP'].fillna('99999', inplace=True)"
   ]
  },
  {
   "cell_type": "code",
   "execution_count": null,
   "metadata": {},
   "outputs": [],
   "source": [
    "#All blanks cells are filled with unknown/N/zero values due to insufficient information\n",
    "\n",
    "data['Precinct'].fillna('UNKNOWN', inplace=True)\n",
    "data['Latitude'].fillna('UNKNOWN', inplace=True)\n",
    "data['Longitude'].fillna('UNKNOWN', inplace=True)\n",
    "data['Mapped Location'].fillna('UNKNOWN', inplace=True)\n",
    "data['Hit and Run'].fillna('N', inplace=True)\n",
    "data['Collision Type Description'].fillna('UNKNOWN', inplace=True)\n",
    "data['Street Address'].fillna('UNKNOWN', inplace=True)\n",
    "data['Weather Description'].fillna('UNKNOWN', inplace=True)\n",
    "data['Property Damage'].fillna('N', inplace=True)\n",
    "data['Number of Motor Vehicles'].fillna(0, inplace=True)\n",
    "data['Number of Fatalities'].fillna(0, inplace=True)"
   ]
  },
  {
   "cell_type": "code",
   "execution_count": null,
   "metadata": {},
   "outputs": [],
   "source": [
    "# data.info()"
   ]
  },
  {
   "cell_type": "code",
   "execution_count": null,
   "metadata": {},
   "outputs": [],
   "source": [
    "#data = data['Date and Time'].str.\n",
    "data['Date'] = data['Date and Time'].dt.strftime('%Y-%b-%d')\n",
    "data['Time'] = data['Date and Time'].dt.strftime('%H:%M:%S')\n",
    "data.head(1)"
   ]
  },
  {
   "cell_type": "code",
   "execution_count": null,
   "metadata": {},
   "outputs": [],
   "source": [
    "data[['Year', 'Month', 'Day']] = data['Date'].str.split('-', expand=True)"
   ]
  },
  {
   "cell_type": "code",
   "execution_count": null,
   "metadata": {},
   "outputs": [],
   "source": [
    "# data.info()"
   ]
  },
  {
   "cell_type": "code",
   "execution_count": null,
   "metadata": {},
   "outputs": [],
   "source": [
    "# Sepearate the dataset to individual year\n",
    "data_2017 =data.loc[data['Year']== '2017']\n",
    "data_2018 =data.loc[data['Year']== '2018']\n",
    "data_2019 =data.loc[data['Year']== '2019']\n",
    "data_2015 =data.loc[data['Year']== '2015']\n",
    "data_2016 =data.loc[data['Year']== '2016']"
   ]
  },
  {
   "cell_type": "markdown",
   "metadata": {},
   "source": [
    "---\n",
    "\n",
    "\n",
    "# Write functions for the same analysis"
   ]
  },
  {
   "cell_type": "code",
   "execution_count": null,
   "metadata": {},
   "outputs": [],
   "source": [
    "def total_accident(df, year):\n",
    "    \"\"\"find total accident per year\n",
    "    \"\"\"\n",
    "    total_traffic_accident =df['Accident Number'].count()\n",
    "    print(f' Total Traffic accident in {year}: {total_traffic_accident}')"
   ]
  },
  {
   "cell_type": "code",
   "execution_count": null,
   "metadata": {},
   "outputs": [],
   "source": [
    "\n",
    "def total_vehicles(df, year):\n",
    "    \"\"\"find total accident per year\n",
    "    \"\"\"\n",
    "    total_vehicles =df['Number of Motor Vehicles'].sum()\n",
    "    print(f' Total Vehicles crash in {year}: {total_vehicles}')"
   ]
  },
  {
   "cell_type": "code",
   "execution_count": null,
   "metadata": {},
   "outputs": [],
   "source": [
    "def accident_by_city(data_year, year):\n",
    "    \"\"\"\n",
    "    define function to find number of accidents by city\n",
    "    \"\"\"\n",
    "    cities_year = data_year['City'].tolist()\n",
    "    cities_year_count = dict((x, cities_year.count(x)) for x in set(cities_year))\n",
    "    city_accident =pd.DataFrame.from_dict(cities_year_count, orient='index',columns =[f'Number_of_Accidents {year}'])\n",
    "    city_accident_sorted=city_accident.sort_values(by=[f'Number_of_Accidents {year}'], ascending = False)\n",
    "    return city_accident_sorted"
   ]
  },
  {
   "cell_type": "code",
   "execution_count": null,
   "metadata": {},
   "outputs": [],
   "source": [
    "def average_by(data_year, groupsBy, aggregateBy1, aggregateBy2, new_columname1, new_columname2, new_columname3, year):\n",
    "    \"\"\"Returns Three columns: Groupby column, Total column, Average Column         \n",
    "    \"\"\"\n",
    "    data = data_year.groupby(groupsBy).agg({aggregateBy1: ['sum'],aggregateBy2: ['count'] })\n",
    "    data = data.reset_index()\n",
    "    data.columns = [new_columname1,new_columname2, new_columname3]\n",
    "    data_sorted = data.sort_values(by=new_columname2, ascending = False)\n",
    "    #total = data_sorted[new_columname2].sum()\n",
    "    \n",
    "    for ind, row in data_sorted.iterrows():\n",
    "        data_sorted.loc[ind, 'Average'] = row[new_columname2] / row[new_columname3] #total *100\n",
    "     \n",
    "    return data_sorted\n"
   ]
  },
  {
   "cell_type": "code",
   "execution_count": null,
   "metadata": {},
   "outputs": [],
   "source": [
    "def accident_by_weather(data_year, year, number_of_year):\n",
    "    \"\"\"\n",
    "    define function to find number of accidents by Weather Condition\n",
    "    \"\"\"\n",
    "    condition_year = data_year['Weather Description'].tolist()\n",
    "    condition_year_count = dict((x, condition_year.count(x)/number_of_year) for x in set(condition_year))\n",
    "    condition_accident =pd.DataFrame.from_dict(condition_year_count, orient='index',columns =[f'Average Number of Accidents {year}'])\n",
    "    condition_accident_sorted=condition_accident.sort_values(by=[f'Average Number of Accidents {year}'], ascending = False)\n",
    "    return condition_accident_sorted"
   ]
  },
  {
   "cell_type": "code",
   "execution_count": null,
   "metadata": {},
   "outputs": [],
   "source": [
    "# function to plot desired series\n",
    "def plot_series(df, x_series , y_series, plot_title, x_label, y_label, colors):\n",
    "    \"\"\"plotting desired series\n",
    "    \"\"\"\n",
    "\n",
    "    plt.rcParams[\"figure.figsize\"] = (6,4)\n",
    "    ax = df.plot.bar(x= x_series,y= y_series, rot=90, color =colors)\n",
    "    plt.xlabel(x_label)\n",
    "    plt.ylabel(y_label)\n",
    "    plt.title(plot_title)\n"
   ]
  },
  {
   "cell_type": "code",
   "execution_count": null,
   "metadata": {},
   "outputs": [],
   "source": [
    "def injury_rate(data_year, year, VMT):\n",
    "    \"\"\"Find Average injury per accident\n",
    "    \"\"\"\n",
    "    injury_year = data_year['Number of Injuries']\n",
    "    total_injury = sum(injury_year)\n",
    "    injury_person_per_100K_VMT = round(total_injury / VMT * 100000,2)\n",
    "    print(f'Injuried Persons Per 100000 VMT in {year} : {injury_person_per_100K_VMT}')\n",
    "    #return injury_rate_per_accident "
   ]
  },
  {
   "cell_type": "code",
   "execution_count": null,
   "metadata": {},
   "outputs": [],
   "source": [
    "def fatality_rate(data_year, year, population):\n",
    "    \"\"\"Find Average fatality per accident\n",
    "    \"\"\"\n",
    "    fatality_year = data_year['Number of Fatalities']\n",
    "    total_fatality = int(sum(fatality_year))\n",
    "    fatality_per_100K_population = round(total_fatality / population * 100000,2)\n",
    "    print(f'Fatality Per 100000 Population in {year}: {fatality_per_100K_population}')\n",
    "    #return fatality_rate_per_accident"
   ]
  },
  {
   "cell_type": "code",
   "execution_count": null,
   "metadata": {},
   "outputs": [],
   "source": [
    "\n",
    "def plot_accident_by_zip(df, plot_title, x_label, y_label, colors):\n",
    "    \"\"\"plot traffic accident by zip\n",
    "    \"\"\"\n",
    "    # filter out city column and pass to list to iterate over the city columns\n",
    "    zip_year = df['ZIP'].tolist()\n",
    "    zip_count_year = dict((x, zip_year.count(x)) for x in set(zip_year))\n",
    "\n",
    "    #create dataframe from result dictionary\n",
    "    zip_count_year =pd.DataFrame.from_dict(zip_count_year, orient='index',columns =['Accidents_by_zip']) \n",
    "    zip_count_year= zip_count_year.sort_values(by='Accidents_by_zip', ascending = False)\n",
    "    #zip_count_2017\n",
    "    plt.rcParams[\"figure.figsize\"] = (8,6)\n",
    "    ax = zip_count_year.plot.bar(y='Accidents_by_zip', rot=90, color = colors)\n",
    "    plt.xlabel(x_label);\n",
    "    plt.ylabel(y_label);\n",
    "    plt.title(plot_title);"
   ]
  },
  {
   "cell_type": "code",
   "execution_count": null,
   "metadata": {},
   "outputs": [],
   "source": [
    "def groupby_month_plot(data_year,plot_title, x_label,y_label, colors, number_of_number):\n",
    "    \"\"\"Group Accident by Month\n",
    "       & plot line graph\n",
    "    \"\"\"\n",
    "    by_month = (data_year.groupby('Month').agg({'Accident Number':['count']}))/number_of_number\n",
    "    ordered = ['Jan', 'Feb', 'Mar', 'Apr', 'May','Jun', 'Jul','Aug', 'Sep','Oct','Nov','Dec']\n",
    "    by_month_ordered = by_month.reindex(ordered)\n",
    "    by_month_ordered.plot(y='Accident Number', color=colors)\n",
    "    plt.xlabel(x_label);\n",
    "    plt.ylabel(y_label);\n",
    "    plt.title(plot_title);"
   ]
  },
  {
   "cell_type": "markdown",
   "metadata": {},
   "source": [
    "---\n",
    "\n",
    "## Q1. How many total auto accidents per year in Nashville?\n"
   ]
  },
  {
   "cell_type": "code",
   "execution_count": null,
   "metadata": {},
   "outputs": [],
   "source": [
    "total_accident(data_2015, 2015)\n",
    "total_accident(data_2016, 2016)\n",
    "total_accident(data_2017, 2017)\n",
    "total_accident(data_2018, 2018)\n",
    "total_accident(data_2019, 2019)"
   ]
  },
  {
   "cell_type": "code",
   "execution_count": null,
   "metadata": {},
   "outputs": [],
   "source": [
    "total_vehicles(data_2015, 2015)\n",
    "total_vehicles(data_2016, 2016)\n",
    "total_vehicles(data_2017, 2017)\n",
    "total_vehicles(data_2018, 2018)\n",
    "total_vehicles(data_2019, 2019)"
   ]
  },
  {
   "cell_type": "code",
   "execution_count": null,
   "metadata": {},
   "outputs": [],
   "source": [
    "average_by(data, \"Year\", \"Number of Injuries\", \"Number of Motor Vehicles\", \"Year\", \"Fatality\", \"Vehicles\", \"5 Years\")"
   ]
  },
  {
   "cell_type": "markdown",
   "metadata": {},
   "source": [
    "---\n",
    "\n",
    "## Q2. Which region/city has the most accidents compared to other regions? "
   ]
  },
  {
   "cell_type": "code",
   "execution_count": null,
   "metadata": {},
   "outputs": [],
   "source": [
    "total_by_city =accident_by_city(data, 15_19)\n",
    "Average_accident_by_city =(total_by_city[['Number_of_Accidents 1519']]/5).head(1)\n",
    "Average_accident_by_city"
   ]
  },
  {
   "cell_type": "code",
   "execution_count": null,
   "metadata": {},
   "outputs": [],
   "source": [
    "total_by_city_2015 =accident_by_city(data_2015, 2015)\n",
    "total_by_city_2015.head(1)"
   ]
  },
  {
   "cell_type": "code",
   "execution_count": null,
   "metadata": {},
   "outputs": [],
   "source": [
    "total_by_city_2016 =accident_by_city(data_2016, 2016)\n",
    "total_by_city_2016.head(1)"
   ]
  },
  {
   "cell_type": "code",
   "execution_count": null,
   "metadata": {},
   "outputs": [],
   "source": [
    "total_by_city_2017 =accident_by_city(data_2017, 2017)\n",
    "total_by_city_2017.head(1)"
   ]
  },
  {
   "cell_type": "code",
   "execution_count": null,
   "metadata": {},
   "outputs": [],
   "source": [
    "total_by_city_2018 =accident_by_city(data_2018, 2018)\n",
    "total_by_city_2018.head(1)"
   ]
  },
  {
   "cell_type": "code",
   "execution_count": null,
   "metadata": {},
   "outputs": [],
   "source": [
    "total_by_city_2019 = accident_by_city(data_2019, 2019)\n",
    "total_by_city_2019.head(1)"
   ]
  },
  {
   "cell_type": "markdown",
   "metadata": {},
   "source": [
    "---\n",
    "\n",
    "## Q3. What time of the year did the accident occur the most? \n"
   ]
  },
  {
   "cell_type": "code",
   "execution_count": null,
   "metadata": {},
   "outputs": [],
   "source": [
    "groupby_month_plot(data,\"Average Monthly Accidents\", \"Month\",\"Count\", \"steelblue\", 5)"
   ]
  },
  {
   "cell_type": "code",
   "execution_count": null,
   "metadata": {},
   "outputs": [],
   "source": [
    "groupby_month_plot(data_2018,\"Monthly Total Accidents 2018\", \"Month\",\"Count\", \"steelblue\", 1)"
   ]
  },
  {
   "cell_type": "code",
   "execution_count": null,
   "metadata": {},
   "outputs": [],
   "source": [
    "groupby_month_plot(data_2019,\"Monthly Total Accidents 2019\", \"Month\",\"Count\", \"lightslategray\",1)"
   ]
  },
  {
   "cell_type": "code",
   "execution_count": null,
   "metadata": {},
   "outputs": [],
   "source": [
    "#Plot bar plot to compare between line plot to see which one is better for the same data\n",
    "plt.rcParams[\"figure.figsize\"] = (8,6)\n",
    "ax = by_month_2017_ordered.plot.bar(y='Accident Number', rot=0, color ='dodgerblue')\n",
    "plt.xlabel(\"Month\")\n",
    "plt.ylabel(\"Number of Accident\")\n",
    "plt.title(\"Monthly Traffic Accident 2017\")"
   ]
  },
  {
   "cell_type": "markdown",
   "metadata": {},
   "source": [
    "---\n",
    "## Q4. Did the weather condition cause the accidents?"
   ]
  },
  {
   "cell_type": "code",
   "execution_count": null,
   "metadata": {},
   "outputs": [],
   "source": [
    "Average_Accidents_by_Weather =accident_by_weather(data, 2015_2019, 5)\n",
    "Average_Accidents_by_Weather\n",
    "plt.rcParams[\"figure.figsize\"] = (6,4)\n",
    "ax = Average_Accidents_by_Weather.plot.bar(y='Average Number of Accidents 20152019', rot=90, color = \"dodgerblue\")\n",
    "plt.xlabel(\"Weather\");\n",
    "plt.ylabel(\"Average\");\n",
    "plt.title(\"Average Accident by Weather Condition\");"
   ]
  },
  {
   "cell_type": "markdown",
   "metadata": {},
   "source": [
    "## Q5. What is injury rate? What is fatality rate?\n"
   ]
  },
  {
   "cell_type": "code",
   "execution_count": null,
   "metadata": {},
   "outputs": [],
   "source": [
    "injury_rate(data_2015, 2015, 23704507)\n",
    "injury_rate(data_2016, 2016, 24582377)\n",
    "injury_rate(data_2017, 2017, 25658830)\n",
    "injury_rate(data_2018, 2018, 26038272)\n",
    "injury_rate(data_2019, 2019, 26038272)"
   ]
  },
  {
   "cell_type": "code",
   "execution_count": null,
   "metadata": {},
   "outputs": [],
   "source": [
    "fatality_rate(data_2015, 2015, 679793)\n",
    "fatality_rate(data_2016, 2016, 685829)\n",
    "fatality_rate(data_2017, 2017, 687159)\n",
    "fatality_rate(data_2018, 2018, 690516)\n",
    "fatality_rate(data_2019, 2019, 694144)"
   ]
  },
  {
   "cell_type": "markdown",
   "metadata": {},
   "source": [
    "## Q6. Which zip_code has the most accidents?\n"
   ]
  },
  {
   "cell_type": "code",
   "execution_count": null,
   "metadata": {},
   "outputs": [],
   "source": [
    "plot_accident_by_zip(data, \"Accidents by Zip\", \"Zip\", \"Count\", \"lightslategray\")"
   ]
  }
 ],
 "metadata": {
  "kernelspec": {
   "display_name": "Python 3",
   "language": "python",
   "name": "python3"
  },
  "language_info": {
   "codemirror_mode": {
    "name": "ipython",
    "version": 3
   },
   "file_extension": ".py",
   "mimetype": "text/x-python",
   "name": "python",
   "nbconvert_exporter": "python",
   "pygments_lexer": "ipython3",
   "version": "3.7.6"
  }
 },
 "nbformat": 4,
 "nbformat_minor": 4
}
